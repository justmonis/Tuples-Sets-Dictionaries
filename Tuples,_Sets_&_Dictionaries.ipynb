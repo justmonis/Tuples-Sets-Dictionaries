{
  "cells": [
    {
      "cell_type": "markdown",
      "metadata": {
        "id": "view-in-github",
        "colab_type": "text"
      },
      "source": [
        "<a href=\"https://colab.research.google.com/github/justmonis/Tuples-Sets-Dictionaries/blob/main/Tuples%2C_Sets_%26_Dictionaries.ipynb\" target=\"_parent\"><img src=\"https://colab.research.google.com/assets/colab-badge.svg\" alt=\"Open In Colab\"/></a>"
      ]
    },
    {
      "cell_type": "markdown",
      "metadata": {
        "id": "XyN6An5ux2v8"
      },
      "source": [
        "# Tuples\n",
        "\n",
        "* In Python tuples are very similar to lists, however, unlike lists they are *immutable* meaning they can not be changed.\n",
        "\n",
        "\n",
        "* You would use tuples to present things that shouldn't be changed, such as days of the week, or dates on a calendar.\n",
        "\n",
        "\n",
        "* You'll have an intuition of how to use tuples based on what you've learned about lists. We can treat them very similarly with the <u>major distinction being that tuples are immutable</u>.\n",
        "\n",
        "\n",
        "## Constructing Tuples\n",
        "\n",
        "* The construction of a tuples use <code>()</code> with elements separated by commas."
      ]
    },
    {
      "cell_type": "code",
      "execution_count": 1,
      "metadata": {
        "id": "v6uqrGdAx2v-"
      },
      "outputs": [],
      "source": [
        "# Create a tuple\n",
        "my_tuple = (1,'a',3)"
      ]
    },
    {
      "cell_type": "code",
      "execution_count": 2,
      "metadata": {
        "colab": {
          "base_uri": "https://localhost:8080/"
        },
        "id": "AJWmfPGsx2wC",
        "outputId": "554208b1-c51f-4942-8390-f32a93770dce"
      },
      "outputs": [
        {
          "output_type": "stream",
          "name": "stdout",
          "text": [
            "(1, 'a', 3)\n"
          ]
        }
      ],
      "source": [
        "print(my_tuple)"
      ]
    },
    {
      "cell_type": "code",
      "execution_count": 3,
      "metadata": {
        "colab": {
          "base_uri": "https://localhost:8080/"
        },
        "id": "fxgESNwMThmv",
        "outputId": "cf3bf8a6-bb1d-4a9e-8cae-34009d07fb03"
      },
      "outputs": [
        {
          "output_type": "execute_result",
          "data": {
            "text/plain": [
              "tuple"
            ]
          },
          "metadata": {},
          "execution_count": 3
        }
      ],
      "source": [
        "type(my_tuple)"
      ]
    },
    {
      "cell_type": "code",
      "execution_count": 4,
      "metadata": {
        "colab": {
          "base_uri": "https://localhost:8080/"
        },
        "id": "6Q1TOAyNx2wG",
        "outputId": "a64283e1-4a5a-4b1c-95a8-7604ff9803c9"
      },
      "outputs": [
        {
          "output_type": "execute_result",
          "data": {
            "text/plain": [
              "('one', 2, 4.53, 'asbc')"
            ]
          },
          "metadata": {},
          "execution_count": 4
        }
      ],
      "source": [
        "# Can also mix object types\n",
        "another_tuple = ('one',2, 4.53, 'asbc')\n",
        "\n",
        "# Show\n",
        "another_tuple"
      ]
    },
    {
      "cell_type": "code",
      "execution_count": 5,
      "metadata": {
        "id": "rdMQ9x4lwN3f"
      },
      "outputs": [],
      "source": [
        "my_list = [1]"
      ]
    },
    {
      "cell_type": "code",
      "execution_count": 6,
      "metadata": {
        "colab": {
          "base_uri": "https://localhost:8080/"
        },
        "id": "N_mlfU7FwOnX",
        "outputId": "dd375246-71ec-4e52-d4db-5990ed9ddede"
      },
      "outputs": [
        {
          "output_type": "execute_result",
          "data": {
            "text/plain": [
              "list"
            ]
          },
          "metadata": {},
          "execution_count": 6
        }
      ],
      "source": [
        "type(my_list)"
      ]
    },
    {
      "cell_type": "code",
      "execution_count": 7,
      "metadata": {
        "id": "Qg1qp0jGwPRZ"
      },
      "outputs": [],
      "source": [
        "my_tuple = (1,)"
      ]
    },
    {
      "cell_type": "code",
      "execution_count": 8,
      "metadata": {
        "colab": {
          "base_uri": "https://localhost:8080/"
        },
        "id": "dFs4gMVowaRh",
        "outputId": "75db6528-eac6-44da-86c8-c6923a863bbf"
      },
      "outputs": [
        {
          "output_type": "execute_result",
          "data": {
            "text/plain": [
              "tuple"
            ]
          },
          "metadata": {},
          "execution_count": 8
        }
      ],
      "source": [
        "type(my_tuple)"
      ]
    },
    {
      "cell_type": "code",
      "execution_count": 9,
      "metadata": {
        "id": "dpbiMeBzUkA5"
      },
      "outputs": [],
      "source": [
        "my_tuple = 1,2,3"
      ]
    },
    {
      "cell_type": "code",
      "execution_count": 10,
      "metadata": {
        "colab": {
          "base_uri": "https://localhost:8080/"
        },
        "id": "mhzDE0a5wzsN",
        "outputId": "191c37c2-e7d0-4e53-9a13-ee9b41761b13"
      },
      "outputs": [
        {
          "output_type": "execute_result",
          "data": {
            "text/plain": [
              "tuple"
            ]
          },
          "metadata": {},
          "execution_count": 10
        }
      ],
      "source": [
        "type(my_tuple)"
      ]
    },
    {
      "cell_type": "code",
      "execution_count": 11,
      "metadata": {
        "id": "3XasyDgzwaft"
      },
      "outputs": [],
      "source": [
        "my_tuple = (1,2,3,4)"
      ]
    },
    {
      "cell_type": "code",
      "execution_count": 12,
      "metadata": {
        "colab": {
          "base_uri": "https://localhost:8080/"
        },
        "id": "huPIwRVVx2wK",
        "outputId": "09cce1e6-9a26-4a2b-95e9-bc974f5582b9"
      },
      "outputs": [
        {
          "output_type": "execute_result",
          "data": {
            "text/plain": [
              "4"
            ]
          },
          "metadata": {},
          "execution_count": 12
        }
      ],
      "source": [
        "len(my_tuple)"
      ]
    },
    {
      "cell_type": "markdown",
      "metadata": {
        "id": "QutmafNzx2wN"
      },
      "source": [
        "## Tuple Indexing\n",
        "\n",
        "* Indexing work just like in lists.\n",
        "\n",
        "\n",
        "* A tuple index refers to the location of an element in a tuple.\n",
        "\n",
        "\n",
        "* Remember the indexing begins from 0 in Python.\n",
        "\n",
        "\n",
        "* The first element is assigned an index 0, the second element is assigned an index of 1 and so on and so forth."
      ]
    },
    {
      "cell_type": "code",
      "execution_count": 13,
      "metadata": {
        "colab": {
          "base_uri": "https://localhost:8080/"
        },
        "id": "ZpAn22VZV5o7",
        "outputId": "43b88da9-9132-405a-bdae-48a461bafce2"
      },
      "outputs": [
        {
          "output_type": "stream",
          "name": "stdout",
          "text": [
            "('one', 2, 4.53, 'asbc')\n"
          ]
        }
      ],
      "source": [
        "print(another_tuple)"
      ]
    },
    {
      "cell_type": "code",
      "execution_count": 14,
      "metadata": {
        "colab": {
          "base_uri": "https://localhost:8080/",
          "height": 35
        },
        "id": "wcxawypZx2wN",
        "outputId": "aa489ace-152e-4a47-91bc-3f69ff190bb6"
      },
      "outputs": [
        {
          "output_type": "execute_result",
          "data": {
            "text/plain": [
              "'one'"
            ],
            "application/vnd.google.colaboratory.intrinsic+json": {
              "type": "string"
            }
          },
          "metadata": {},
          "execution_count": 14
        }
      ],
      "source": [
        "# Grab the element at index 0, which is the FIRST element\n",
        "another_tuple[0]"
      ]
    },
    {
      "cell_type": "code",
      "execution_count": 15,
      "metadata": {
        "colab": {
          "base_uri": "https://localhost:8080/",
          "height": 35
        },
        "id": "cGmGukFtx2wR",
        "outputId": "19544fbb-e5d9-45c3-b75c-63ae7ff8762b"
      },
      "outputs": [
        {
          "output_type": "execute_result",
          "data": {
            "text/plain": [
              "'asbc'"
            ],
            "application/vnd.google.colaboratory.intrinsic+json": {
              "type": "string"
            }
          },
          "metadata": {},
          "execution_count": 15
        }
      ],
      "source": [
        "# Grab the element at index 3, which is the FOURTH element\n",
        "another_tuple[3]"
      ]
    },
    {
      "cell_type": "code",
      "execution_count": 16,
      "metadata": {
        "colab": {
          "base_uri": "https://localhost:8080/",
          "height": 35
        },
        "id": "juNr6LZnx2wU",
        "outputId": "fa06eea7-18f6-43ae-dc11-928ffdc710a0"
      },
      "outputs": [
        {
          "output_type": "execute_result",
          "data": {
            "text/plain": [
              "'asbc'"
            ],
            "application/vnd.google.colaboratory.intrinsic+json": {
              "type": "string"
            }
          },
          "metadata": {},
          "execution_count": 16
        }
      ],
      "source": [
        "# Grab the element at the index -1, which is the LAST element\n",
        "another_tuple[-1]"
      ]
    },
    {
      "cell_type": "code",
      "execution_count": 17,
      "metadata": {
        "colab": {
          "base_uri": "https://localhost:8080/"
        },
        "id": "bZiLXFa3x2wX",
        "outputId": "d36b094a-b769-415b-c88a-c5af8854dc26"
      },
      "outputs": [
        {
          "output_type": "execute_result",
          "data": {
            "text/plain": [
              "2"
            ]
          },
          "metadata": {},
          "execution_count": 17
        }
      ],
      "source": [
        "# Grab the element at the index -3, which is the THIRD LAST element\n",
        "another_tuple[-3]"
      ]
    },
    {
      "cell_type": "markdown",
      "metadata": {
        "id": "v_Dz0Rf8x2wZ"
      },
      "source": [
        "## Tuple Slicing\n",
        "\n",
        "* We can use a <code>:</code> to perform *slicing* which grabs everything up to a designated point.\n",
        "\n",
        "\n",
        "* The starting index is specified on the left of the <code>:</code> and the ending index is specified on the right of the <code>:</code>.\n",
        "\n",
        "\n",
        "* Remember the element located at the right index is not included."
      ]
    },
    {
      "cell_type": "code",
      "execution_count": 18,
      "metadata": {
        "colab": {
          "base_uri": "https://localhost:8080/"
        },
        "id": "gpNaAjgLx2wZ",
        "outputId": "5765dabf-d014-4cb8-b773-f271ecbe92ea"
      },
      "outputs": [
        {
          "output_type": "stream",
          "name": "stdout",
          "text": [
            "('one', 2, 4.53, 'asbc')\n"
          ]
        }
      ],
      "source": [
        "# Print our list\n",
        "print(another_tuple)"
      ]
    },
    {
      "cell_type": "code",
      "execution_count": 19,
      "metadata": {
        "colab": {
          "base_uri": "https://localhost:8080/"
        },
        "id": "KOVYp2O-x2wc",
        "outputId": "8a318c60-0381-4ce5-c0b3-980408170201"
      },
      "outputs": [
        {
          "output_type": "execute_result",
          "data": {
            "text/plain": [
              "(2, 4.53)"
            ]
          },
          "metadata": {},
          "execution_count": 19
        }
      ],
      "source": [
        "# Grab the elements starting from index 1 and everything past it\n",
        "another_tuple[1:3]"
      ]
    },
    {
      "cell_type": "markdown",
      "metadata": {
        "id": "tRf9M55tx2wf"
      },
      "source": [
        "* If you do not specify the ending index, then all elements are extracted which comes after the starting index including the element at that starting index. The operation knows only to stop when it has run through the entire tuple."
      ]
    },
    {
      "cell_type": "code",
      "execution_count": 20,
      "metadata": {
        "colab": {
          "base_uri": "https://localhost:8080/"
        },
        "id": "qP9KxBbwx2wf",
        "outputId": "e507fae8-b18c-4982-b31c-b54c7ec7bd80"
      },
      "outputs": [
        {
          "output_type": "execute_result",
          "data": {
            "text/plain": [
              "(4.53, 'asbc')"
            ]
          },
          "metadata": {},
          "execution_count": 20
        }
      ],
      "source": [
        "# Grab everything starting from index 2\n",
        "another_tuple[2:]"
      ]
    },
    {
      "cell_type": "markdown",
      "metadata": {
        "id": "PgKv1f2qx2wj"
      },
      "source": [
        "* If you do not specify the starting index, then all elements are extracted which comes befores the ending index excluding the element at the specified ending index. The operation knows only to stop when it has extracted all elements before the  element at the ending index."
      ]
    },
    {
      "cell_type": "code",
      "execution_count": 21,
      "metadata": {
        "colab": {
          "base_uri": "https://localhost:8080/"
        },
        "id": "u_kPO20kx2wj",
        "outputId": "a2bd3951-80ee-4a48-c57f-0faf80d15e42"
      },
      "outputs": [
        {
          "output_type": "execute_result",
          "data": {
            "text/plain": [
              "('one', 2, 4.53, 'asbc')"
            ]
          },
          "metadata": {},
          "execution_count": 21
        }
      ],
      "source": [
        "# Grab everything before the index 4\n",
        "another_tuple[:6]"
      ]
    },
    {
      "cell_type": "markdown",
      "metadata": {
        "id": "1qkOSf_Vx2wn"
      },
      "source": [
        "* If you do not specify the starting and the ending index, it will extract all elements of the tuple."
      ]
    },
    {
      "cell_type": "code",
      "execution_count": 22,
      "metadata": {
        "colab": {
          "base_uri": "https://localhost:8080/"
        },
        "id": "2dIvFwW9x2wn",
        "outputId": "2a67bab5-fb7a-49a4-a651-7b5653bf7c23"
      },
      "outputs": [
        {
          "output_type": "execute_result",
          "data": {
            "text/plain": [
              "('one', 2, 4.53, 'asbc')"
            ]
          },
          "metadata": {},
          "execution_count": 22
        }
      ],
      "source": [
        "# Grab everything\n",
        "another_tuple"
      ]
    },
    {
      "cell_type": "markdown",
      "metadata": {
        "id": "SdKU_cPFx2wp"
      },
      "source": [
        "* We can also extract the last four elements. Remember we can use the index -4 to extract the FOURTH LAST element"
      ]
    },
    {
      "cell_type": "code",
      "execution_count": 23,
      "metadata": {
        "colab": {
          "base_uri": "https://localhost:8080/"
        },
        "id": "gvcyMuHkx2wq",
        "outputId": "14f92570-a7fd-42e2-9204-da84fa1c2b01"
      },
      "outputs": [
        {
          "output_type": "execute_result",
          "data": {
            "text/plain": [
              "('one', 2, 4.53, 'asbc')"
            ]
          },
          "metadata": {},
          "execution_count": 23
        }
      ],
      "source": [
        "# Grab the LAST FOUR elements of the list\n",
        "another_tuple[-4:]"
      ]
    },
    {
      "cell_type": "markdown",
      "metadata": {
        "id": "9lCrYVHmx2ws"
      },
      "source": [
        "* It should also be noted that tuple indexing will return an error if there is no element at that index."
      ]
    },
    {
      "cell_type": "code",
      "execution_count": 24,
      "metadata": {
        "id": "qbHiONdnx2wt"
      },
      "outputs": [],
      "source": [
        "#another_tuple[5]"
      ]
    },
    {
      "cell_type": "code",
      "execution_count": 25,
      "metadata": {
        "colab": {
          "base_uri": "https://localhost:8080/"
        },
        "id": "CzJEQohvx2wy",
        "outputId": "b5d9b74e-c6d2-45d6-e665-bc632a596a91"
      },
      "outputs": [
        {
          "output_type": "execute_result",
          "data": {
            "text/plain": [
              "4"
            ]
          },
          "metadata": {},
          "execution_count": 25
        }
      ],
      "source": [
        "# Check len just like a list\n",
        "len(another_tuple)"
      ]
    },
    {
      "cell_type": "code",
      "execution_count": 26,
      "metadata": {
        "id": "voUVF0NfyuM9"
      },
      "outputs": [],
      "source": [
        "random_tuple = (1,5,6,2)"
      ]
    },
    {
      "cell_type": "code",
      "execution_count": 27,
      "metadata": {
        "colab": {
          "base_uri": "https://localhost:8080/"
        },
        "id": "EbGyqDzUyyX6",
        "outputId": "72d8e322-d2a5-4c6b-b501-4aa1375af4e5"
      },
      "outputs": [
        {
          "output_type": "execute_result",
          "data": {
            "text/plain": [
              "[1, 2, 5, 6]"
            ]
          },
          "metadata": {},
          "execution_count": 27
        }
      ],
      "source": [
        "sorted(random_tuple)"
      ]
    },
    {
      "cell_type": "markdown",
      "metadata": {
        "id": "6NaL3DU1x2w1"
      },
      "source": [
        "## Tuple Methods\n",
        "\n",
        "* Tuples have built-in methods, but not as many as lists do."
      ]
    },
    {
      "cell_type": "markdown",
      "metadata": {
        "id": "INOUJ-IJx2w1"
      },
      "source": [
        "### <code>index()</code>\n",
        "\n",
        "\n",
        "* The <code>index()</code> method returns the index of a specified element."
      ]
    },
    {
      "cell_type": "code",
      "execution_count": 28,
      "metadata": {
        "id": "PxssLKRkx2w2"
      },
      "outputs": [],
      "source": [
        "my_tuple =(1,2,3,4,5,6,1,1,2)"
      ]
    },
    {
      "cell_type": "code",
      "execution_count": 29,
      "metadata": {
        "colab": {
          "base_uri": "https://localhost:8080/"
        },
        "id": "5YOxgp1Xx2w4",
        "outputId": "d97e0378-ef43-41b1-9fbd-cfe919c77d94"
      },
      "outputs": [
        {
          "output_type": "execute_result",
          "data": {
            "text/plain": [
              "1"
            ]
          },
          "metadata": {},
          "execution_count": 29
        }
      ],
      "source": [
        "# Use .index to enter a value and return the index\n",
        "my_tuple.index(2)"
      ]
    },
    {
      "cell_type": "code",
      "source": [
        "my_tuple.index(5)"
      ],
      "metadata": {
        "colab": {
          "base_uri": "https://localhost:8080/"
        },
        "id": "Q8I9kbJulRwh",
        "outputId": "0c2f6df2-5c27-4deb-e728-38d4e1dbd32b"
      },
      "execution_count": 30,
      "outputs": [
        {
          "output_type": "execute_result",
          "data": {
            "text/plain": [
              "4"
            ]
          },
          "metadata": {},
          "execution_count": 30
        }
      ]
    },
    {
      "cell_type": "markdown",
      "metadata": {
        "id": "6MHUetrLx2w6"
      },
      "source": [
        "### <code>count()</code>\n",
        "\n",
        "\n",
        "* The <code>count()</code> method returns the total occurrence of a specified element in a tuple"
      ]
    },
    {
      "cell_type": "code",
      "execution_count": 31,
      "metadata": {
        "colab": {
          "base_uri": "https://localhost:8080/"
        },
        "id": "InNQ8DqUx2w6",
        "outputId": "95f150ad-cd14-44a9-af52-8288e0984e0f"
      },
      "outputs": [
        {
          "output_type": "execute_result",
          "data": {
            "text/plain": [
              "2"
            ]
          },
          "metadata": {},
          "execution_count": 31
        }
      ],
      "source": [
        "# Use .count to count the number of times a value appears\n",
        "my_tuple.count(2)"
      ]
    },
    {
      "cell_type": "code",
      "execution_count": 32,
      "metadata": {
        "colab": {
          "base_uri": "https://localhost:8080/"
        },
        "id": "cINAVl65x2w8",
        "outputId": "ebd57120-d699-4709-cf40-5daaf32cc176"
      },
      "outputs": [
        {
          "output_type": "execute_result",
          "data": {
            "text/plain": [
              "3"
            ]
          },
          "metadata": {},
          "execution_count": 32
        }
      ],
      "source": [
        "my_tuple.count(1)"
      ]
    },
    {
      "cell_type": "code",
      "execution_count": 33,
      "metadata": {
        "id": "FJwxB5x3ZRQw"
      },
      "outputs": [],
      "source": [
        "#my_tuple."
      ]
    },
    {
      "cell_type": "code",
      "execution_count": 34,
      "metadata": {
        "id": "77eLJW6VZVbA"
      },
      "outputs": [],
      "source": [
        "my_list = [1,2,3,4]"
      ]
    },
    {
      "cell_type": "code",
      "execution_count": 35,
      "metadata": {
        "colab": {
          "base_uri": "https://localhost:8080/"
        },
        "id": "7az6tjANZXXA",
        "outputId": "eefe04cc-4acd-430a-ec4b-5f3d784da88a"
      },
      "outputs": [
        {
          "output_type": "execute_result",
          "data": {
            "text/plain": [
              "[1, 2, 3, 4]"
            ]
          },
          "metadata": {},
          "execution_count": 35
        }
      ],
      "source": [
        "my_list"
      ]
    },
    {
      "cell_type": "markdown",
      "metadata": {
        "id": "o_B-5yhsx2w-"
      },
      "source": [
        "## Immutability\n",
        "\n",
        "* It can't be stressed enough that tuples are immutable."
      ]
    },
    {
      "cell_type": "code",
      "execution_count": 36,
      "metadata": {
        "colab": {
          "base_uri": "https://localhost:8080/"
        },
        "id": "eVHBqLlkZ79R",
        "outputId": "0094a4e9-cae7-4e07-a453-7653e5be989a"
      },
      "outputs": [
        {
          "output_type": "stream",
          "name": "stdout",
          "text": [
            "(1, 2, 3, 4, 5, 6, 1, 1, 2)\n"
          ]
        }
      ],
      "source": [
        "print(my_tuple)"
      ]
    },
    {
      "cell_type": "code",
      "execution_count": 37,
      "metadata": {
        "colab": {
          "base_uri": "https://localhost:8080/"
        },
        "id": "VO93y72Gx2w_",
        "outputId": "45778fc1-cce7-45b8-cf92-fa7af4df8d8a"
      },
      "outputs": [
        {
          "output_type": "execute_result",
          "data": {
            "text/plain": [
              "1"
            ]
          },
          "metadata": {},
          "execution_count": 37
        }
      ],
      "source": [
        "my_tuple[0]"
      ]
    },
    {
      "cell_type": "code",
      "execution_count": 38,
      "metadata": {
        "id": "w5IKgVqkx2xB"
      },
      "outputs": [],
      "source": [
        "#my_tuple[0] = 'change'"
      ]
    },
    {
      "cell_type": "markdown",
      "metadata": {
        "id": "AY5i1-jrx2xD"
      },
      "source": [
        "* Because of this immutability, tuples can't grow. Once a tuple is made we can not add to it."
      ]
    },
    {
      "cell_type": "markdown",
      "metadata": {
        "id": "Wu7kIjSNx2xE"
      },
      "source": [
        "* Let us consider a list and lets see if we can do this operation on them"
      ]
    },
    {
      "cell_type": "code",
      "execution_count": 39,
      "metadata": {
        "id": "iv-fMwN-x2xE"
      },
      "outputs": [],
      "source": [
        "# Create a list\n",
        "my_list = [5,7,9,3,2]"
      ]
    },
    {
      "cell_type": "code",
      "execution_count": 40,
      "metadata": {
        "id": "7tzllaFJx2xG"
      },
      "outputs": [],
      "source": [
        "# Replace the FIRST element with the value 1\n",
        "my_list[0] = 1"
      ]
    },
    {
      "cell_type": "code",
      "execution_count": 41,
      "metadata": {
        "colab": {
          "base_uri": "https://localhost:8080/"
        },
        "id": "Srx-bzhDx2xJ",
        "outputId": "5a9c3d48-1f77-47fe-f74b-8f0590a296ed"
      },
      "outputs": [
        {
          "output_type": "execute_result",
          "data": {
            "text/plain": [
              "[1, 7, 9, 3, 2]"
            ]
          },
          "metadata": {},
          "execution_count": 41
        }
      ],
      "source": [
        "# Our modified list\n",
        "my_list"
      ]
    },
    {
      "cell_type": "markdown",
      "metadata": {
        "id": "4JSa0bw9x2xL"
      },
      "source": [
        "* Tuple does not support methods such as <code>append()</code>, <code>extend()</code>, <code>remove()</code>, <code>pop()</code>"
      ]
    },
    {
      "cell_type": "code",
      "execution_count": 42,
      "metadata": {
        "id": "zY0mWGohx2xM"
      },
      "outputs": [],
      "source": [
        "#my_tuple.append('Great!')"
      ]
    },
    {
      "cell_type": "markdown",
      "metadata": {
        "id": "FY0pToLax2xO"
      },
      "source": [
        "### <code>zip()</code>\n",
        "\n",
        "\n",
        "* <code>zip()</code> function takes multiple lists as arguments and zips them together\n",
        "\n",
        "\n",
        "* This function returns a list of n-paired tuples where n is the number of lists being zipped"
      ]
    },
    {
      "cell_type": "code",
      "execution_count": 43,
      "metadata": {
        "id": "nZqkre4Ex2xP"
      },
      "outputs": [],
      "source": [
        "city_list = ['Delhi','Patna','Cuttack','Guwahati']\n",
        "river_list = ['Yamuna','Ganga','Mahanadi','Brahmaputra']"
      ]
    },
    {
      "cell_type": "code",
      "execution_count": 44,
      "metadata": {
        "colab": {
          "base_uri": "https://localhost:8080/"
        },
        "id": "557Z0mC-cXRE",
        "outputId": "33cc6cab-915d-4cdc-f082-6e3a431d8380"
      },
      "outputs": [
        {
          "output_type": "execute_result",
          "data": {
            "text/plain": [
              "<zip at 0x7dc552306b80>"
            ]
          },
          "metadata": {},
          "execution_count": 44
        }
      ],
      "source": [
        "zip(city_list, river_list)"
      ]
    },
    {
      "cell_type": "code",
      "execution_count": 45,
      "metadata": {
        "id": "Z4nluMN5x2xR"
      },
      "outputs": [],
      "source": [
        "city_and_their_rivers = list(zip(city_list,river_list))"
      ]
    },
    {
      "cell_type": "code",
      "execution_count": 46,
      "metadata": {
        "colab": {
          "base_uri": "https://localhost:8080/"
        },
        "id": "y2NaSS0tx2xT",
        "outputId": "a68a981d-6a4d-41b7-967a-097c6c9a95b3"
      },
      "outputs": [
        {
          "output_type": "execute_result",
          "data": {
            "text/plain": [
              "[('Delhi', 'Yamuna'),\n",
              " ('Patna', 'Ganga'),\n",
              " ('Cuttack', 'Mahanadi'),\n",
              " ('Guwahati', 'Brahmaputra')]"
            ]
          },
          "metadata": {},
          "execution_count": 46
        }
      ],
      "source": [
        "city_and_their_rivers"
      ]
    },
    {
      "cell_type": "code",
      "execution_count": 47,
      "metadata": {
        "id": "wx1ha97Hdqy7"
      },
      "outputs": [],
      "source": [
        "city_list = ['Delhi','Patna','Cuttack','Guwahati']\n",
        "river_list = ['Yamuna','Ganga','Mahanadi','Brahamputra','Thames']"
      ]
    },
    {
      "cell_type": "code",
      "execution_count": 48,
      "metadata": {
        "colab": {
          "base_uri": "https://localhost:8080/"
        },
        "id": "4VEA76OadwAs",
        "outputId": "5e79fdc9-5857-425d-de96-e573a0f78ba6"
      },
      "outputs": [
        {
          "output_type": "execute_result",
          "data": {
            "text/plain": [
              "[('Delhi', 'Yamuna'),\n",
              " ('Patna', 'Ganga'),\n",
              " ('Cuttack', 'Mahanadi'),\n",
              " ('Guwahati', 'Brahamputra')]"
            ]
          },
          "metadata": {},
          "execution_count": 48
        }
      ],
      "source": [
        "list(zip(city_list,river_list))"
      ]
    },
    {
      "cell_type": "code",
      "execution_count": 49,
      "metadata": {
        "id": "icF5-7K1fLZS"
      },
      "outputs": [],
      "source": [
        "seven_wonders = ['Tajmahal', 'ChichenItza', 'Colosseum', 'the Great Wall of China', 'Machu Picchu', 'Petra', 'Christ the Redeemer' ]\n",
        "country_name = ['India', 'Mexico', 'Italy', 'China', 'Peru', 'Jordan', 'Brazil']"
      ]
    },
    {
      "cell_type": "code",
      "execution_count": 50,
      "metadata": {
        "colab": {
          "base_uri": "https://localhost:8080/"
        },
        "id": "QwXdo3nRhNwh",
        "outputId": "87600f84-ec43-472e-af29-7202dd0ec6f7"
      },
      "outputs": [
        {
          "output_type": "execute_result",
          "data": {
            "text/plain": [
              "<zip at 0x7dc5522f9380>"
            ]
          },
          "metadata": {},
          "execution_count": 50
        }
      ],
      "source": [
        "zip(seven_wonders,country_name)"
      ]
    },
    {
      "cell_type": "code",
      "execution_count": 51,
      "metadata": {
        "id": "vsI771SGhcwY"
      },
      "outputs": [],
      "source": [
        "seven_wonders_and_their_locations = list(zip(seven_wonders,country_name))"
      ]
    },
    {
      "cell_type": "code",
      "execution_count": 52,
      "metadata": {
        "colab": {
          "base_uri": "https://localhost:8080/"
        },
        "id": "ohW9q11_h3Ou",
        "outputId": "d4e56b74-49f6-4e13-9a73-5a84fa6a3e45"
      },
      "outputs": [
        {
          "output_type": "execute_result",
          "data": {
            "text/plain": [
              "[('Tajmahal', 'India'),\n",
              " ('ChichenItza', 'Mexico'),\n",
              " ('Colosseum', 'Italy'),\n",
              " ('the Great Wall of China', 'China'),\n",
              " ('Machu Picchu', 'Peru'),\n",
              " ('Petra', 'Jordan'),\n",
              " ('Christ the Redeemer', 'Brazil')]"
            ]
          },
          "metadata": {},
          "execution_count": 52
        }
      ],
      "source": [
        "seven_wonders_and_their_locations"
      ]
    },
    {
      "cell_type": "markdown",
      "metadata": {
        "id": "yMYuf2Hvx2xV"
      },
      "source": [
        "## When to use Tuples\n",
        "\n",
        "* You may be wondering, \"Why bother using tuples when they have fewer available methods?\" To be honest, tuples are not used as often as lists in programming, but are used when immutability is necessary. If in your program you are passing around an object and need to make sure it does not get changed, then a tuple becomes your solution. It provides a convenient source of data integrity.\n",
        "\n",
        "\n",
        "* You will find them often in functions when you are returning some values\n",
        "\n",
        "\n",
        "* You should now be able to create and use tuples in your programming as well as have an understanding of their immutability."
      ]
    },
    {
      "cell_type": "markdown",
      "metadata": {
        "id": "Fy6-SFXHx2xW"
      },
      "source": [
        "# Sets\n",
        "\n",
        "* Sets are an unordered collection of *unique* elements. We can construct them by using the <code>set()</code> function.\n",
        "\n",
        "\n",
        "* Sets cannot have duplicates.\n",
        "\n",
        "\n",
        "* Sets are mutable just like lists.\n",
        "\n",
        "\n",
        "* You can create a non-empty set with curly braces by specifying elements separated by a comma."
      ]
    },
    {
      "cell_type": "code",
      "execution_count": 53,
      "metadata": {
        "id": "utCm3Vlmx2xW"
      },
      "outputs": [],
      "source": [
        "# Create an empty set\n",
        "empty_set = set()"
      ]
    },
    {
      "cell_type": "code",
      "execution_count": 54,
      "metadata": {
        "colab": {
          "base_uri": "https://localhost:8080/"
        },
        "id": "Yt9nkoOcx2xY",
        "outputId": "99b961ca-bf1a-4776-ecb0-df9bd6639d65"
      },
      "outputs": [
        {
          "output_type": "execute_result",
          "data": {
            "text/plain": [
              "set"
            ]
          },
          "metadata": {},
          "execution_count": 54
        }
      ],
      "source": [
        "type(empty_set)"
      ]
    },
    {
      "cell_type": "code",
      "execution_count": 55,
      "metadata": {
        "id": "9mWIu_PFx2xZ"
      },
      "outputs": [],
      "source": [
        "# Create a non-empty set within curly braces\n",
        "non_empty_set = {1,6,4,'abc'}"
      ]
    },
    {
      "cell_type": "code",
      "execution_count": 56,
      "metadata": {
        "colab": {
          "base_uri": "https://localhost:8080/"
        },
        "id": "MDI_a8slx2xb",
        "outputId": "b8fe9506-02f0-4d91-dcbd-48aad2952f66"
      },
      "outputs": [
        {
          "output_type": "execute_result",
          "data": {
            "text/plain": [
              "set"
            ]
          },
          "metadata": {},
          "execution_count": 56
        }
      ],
      "source": [
        "type(non_empty_set)"
      ]
    },
    {
      "cell_type": "markdown",
      "metadata": {
        "id": "YMD--2K9x2xe"
      },
      "source": [
        "## A Time for Caution\n",
        "\n",
        "* An empty set cannot be represented as <code>{}</code>, which is reserved for an <u>empty dictionary</u> which we will get to know in a short while"
      ]
    },
    {
      "cell_type": "code",
      "execution_count": 57,
      "metadata": {
        "id": "CohTP3Qfx2xe"
      },
      "outputs": [],
      "source": [
        "my_object = {}"
      ]
    },
    {
      "cell_type": "code",
      "execution_count": 58,
      "metadata": {
        "colab": {
          "base_uri": "https://localhost:8080/"
        },
        "id": "hWTaSIAMx2xg",
        "outputId": "377b4b63-99c7-4166-d059-120acb93008c"
      },
      "outputs": [
        {
          "output_type": "execute_result",
          "data": {
            "text/plain": [
              "dict"
            ]
          },
          "metadata": {},
          "execution_count": 58
        }
      ],
      "source": [
        "type(my_object)"
      ]
    },
    {
      "cell_type": "code",
      "execution_count": 59,
      "metadata": {
        "id": "kMaqioALx2xj"
      },
      "outputs": [],
      "source": [
        "my_set = set()"
      ]
    },
    {
      "cell_type": "code",
      "execution_count": 60,
      "metadata": {
        "colab": {
          "base_uri": "https://localhost:8080/"
        },
        "id": "Bu1iyqLrx2xl",
        "outputId": "10466fac-8518-449b-ad39-baabbd90bd5a"
      },
      "outputs": [
        {
          "output_type": "execute_result",
          "data": {
            "text/plain": [
              "set"
            ]
          },
          "metadata": {},
          "execution_count": 60
        }
      ],
      "source": [
        "type(my_set)"
      ]
    },
    {
      "cell_type": "markdown",
      "metadata": {
        "id": "ctWYu0cUx2xn"
      },
      "source": [
        "*  We can cast a list with multiple repeat elements to a set to get the unique elements."
      ]
    },
    {
      "cell_type": "code",
      "execution_count": 61,
      "metadata": {
        "id": "sUh8Zv8Rx2xo"
      },
      "outputs": [],
      "source": [
        "# Create a list with repeats\n",
        "my_list = [1,1,2,2,3,4,5,6,1,1]"
      ]
    },
    {
      "cell_type": "code",
      "execution_count": 62,
      "metadata": {
        "id": "Kdr-pcGRx2xr"
      },
      "outputs": [],
      "source": [
        "# Cast as set to get unique values\n",
        "my_set = set(my_list)"
      ]
    },
    {
      "cell_type": "code",
      "execution_count": 63,
      "metadata": {
        "colab": {
          "base_uri": "https://localhost:8080/"
        },
        "id": "2nXbPmqRx2xt",
        "outputId": "ac12dc0f-04ae-4cad-806c-360d946edb7e"
      },
      "outputs": [
        {
          "output_type": "execute_result",
          "data": {
            "text/plain": [
              "{1, 2, 3, 4, 5, 6}"
            ]
          },
          "metadata": {},
          "execution_count": 63
        }
      ],
      "source": [
        "my_set"
      ]
    },
    {
      "cell_type": "code",
      "execution_count": 64,
      "metadata": {
        "id": "XBZqcSLyx2xv"
      },
      "outputs": [],
      "source": [
        "\n",
        "# A set cannot have mutable items\n",
        "my_set = {1, 2, (3, 4)}"
      ]
    },
    {
      "cell_type": "markdown",
      "metadata": {
        "id": "7GuQNu1ix2xx"
      },
      "source": [
        "* We cannot create a set whose any of the elements is a list"
      ]
    },
    {
      "cell_type": "code",
      "execution_count": 65,
      "metadata": {
        "id": "lt_RVt86x2xy"
      },
      "outputs": [],
      "source": [
        "\n",
        "# But we can have tuples as set elements, they are immutable\n",
        "my_set = {1, 2, (2,3)}"
      ]
    },
    {
      "cell_type": "code",
      "execution_count": 74,
      "metadata": {
        "colab": {
          "base_uri": "https://localhost:8080/"
        },
        "id": "1dj_FMzkx2x1",
        "outputId": "86fed9b5-b02f-4f3b-f4a0-82d823d43ccf"
      },
      "outputs": [
        {
          "output_type": "execute_result",
          "data": {
            "text/plain": [
              "{2, 'a'}"
            ]
          },
          "metadata": {},
          "execution_count": 74
        }
      ],
      "source": [
        "my_set"
      ]
    },
    {
      "cell_type": "code",
      "execution_count": 67,
      "metadata": {
        "id": "WrYzn-Pg72u7"
      },
      "outputs": [],
      "source": [
        "#my_set = {1,2, {3,5}}"
      ]
    },
    {
      "cell_type": "code",
      "execution_count": 68,
      "metadata": {
        "colab": {
          "base_uri": "https://localhost:8080/"
        },
        "id": "6Av1DFXg76ii",
        "outputId": "26aef84b-c4e0-4a8a-b5ce-e74ba651d60c"
      },
      "outputs": [
        {
          "output_type": "execute_result",
          "data": {
            "text/plain": [
              "{(2, 3), 1, 2}"
            ]
          },
          "metadata": {},
          "execution_count": 68
        }
      ],
      "source": [
        "my_set"
      ]
    },
    {
      "cell_type": "markdown",
      "metadata": {
        "id": "McnlvCvFx2x4"
      },
      "source": [
        "### <code>add()</code>\n",
        "\n",
        "\n",
        "*  <code>add()</code> method adds an element to a set\n",
        "\n",
        "\n",
        "* This method takes the element to be added as an argument"
      ]
    },
    {
      "cell_type": "code",
      "execution_count": 69,
      "metadata": {
        "id": "gKrGTWaQx2x4"
      },
      "outputs": [],
      "source": [
        "# We add to sets with the add() method\n",
        "my_set = set()\n",
        "my_set.add('a')"
      ]
    },
    {
      "cell_type": "code",
      "execution_count": 75,
      "metadata": {
        "colab": {
          "base_uri": "https://localhost:8080/"
        },
        "id": "COEtoXrZx2x5",
        "outputId": "c4fcf200-31ab-4254-ef42-f08213a3aaab"
      },
      "outputs": [
        {
          "output_type": "execute_result",
          "data": {
            "text/plain": [
              "{2, 'a'}"
            ]
          },
          "metadata": {},
          "execution_count": 75
        }
      ],
      "source": [
        "#Show\n",
        "my_set"
      ]
    },
    {
      "cell_type": "code",
      "execution_count": 76,
      "metadata": {
        "id": "YTh2v7mSx2x8"
      },
      "outputs": [],
      "source": [
        "# Add a different element\n",
        "my_set.add(2)"
      ]
    },
    {
      "cell_type": "code",
      "execution_count": 72,
      "metadata": {
        "colab": {
          "base_uri": "https://localhost:8080/"
        },
        "id": "AsGC5v5Hx2x-",
        "outputId": "0cddd42f-0179-4e58-b8eb-6f12ab65e72f"
      },
      "outputs": [
        {
          "output_type": "stream",
          "name": "stdout",
          "text": [
            "{2, 'a'}\n"
          ]
        }
      ],
      "source": [
        "#Show\n",
        "print(my_set)"
      ]
    },
    {
      "cell_type": "code",
      "execution_count": 77,
      "metadata": {
        "colab": {
          "base_uri": "https://localhost:8080/",
          "height": 183
        },
        "id": "t37-ERnhx2yA",
        "outputId": "b6c5ffc5-9a5e-4b55-c24d-865b218b3e4e"
      },
      "outputs": [
        {
          "output_type": "error",
          "ename": "NameError",
          "evalue": "ignored",
          "traceback": [
            "\u001b[0;31m---------------------------------------------------------------------------\u001b[0m",
            "\u001b[0;31mNameError\u001b[0m                                 Traceback (most recent call last)",
            "\u001b[0;32m<ipython-input-77-a0a9d059d70f>\u001b[0m in \u001b[0;36m<cell line: 2>\u001b[0;34m()\u001b[0m\n\u001b[1;32m      1\u001b[0m \u001b[0;31m# Lets add another element 1\u001b[0m\u001b[0;34m\u001b[0m\u001b[0;34m\u001b[0m\u001b[0m\n\u001b[0;32m----> 2\u001b[0;31m \u001b[0mx\u001b[0m\u001b[0;34m.\u001b[0m\u001b[0madd\u001b[0m\u001b[0;34m(\u001b[0m\u001b[0;36m1\u001b[0m\u001b[0;34m)\u001b[0m\u001b[0;34m\u001b[0m\u001b[0;34m\u001b[0m\u001b[0m\n\u001b[0m",
            "\u001b[0;31mNameError\u001b[0m: name 'x' is not defined"
          ]
        }
      ],
      "source": [
        "# Lets add another element 1\n",
        "x.add(1)"
      ]
    },
    {
      "cell_type": "code",
      "execution_count": 78,
      "metadata": {
        "colab": {
          "base_uri": "https://localhost:8080/",
          "height": 183
        },
        "id": "aM6UGArnx2yC",
        "outputId": "67b334af-e750-46dd-dc8a-4147f9bf9e2b"
      },
      "outputs": [
        {
          "output_type": "error",
          "ename": "NameError",
          "evalue": "ignored",
          "traceback": [
            "\u001b[0;31m---------------------------------------------------------------------------\u001b[0m",
            "\u001b[0;31mNameError\u001b[0m                                 Traceback (most recent call last)",
            "\u001b[0;32m<ipython-input-78-58f9a873b4c2>\u001b[0m in \u001b[0;36m<cell line: 2>\u001b[0;34m()\u001b[0m\n\u001b[1;32m      1\u001b[0m \u001b[0;31m#Show\u001b[0m\u001b[0;34m\u001b[0m\u001b[0;34m\u001b[0m\u001b[0m\n\u001b[0;32m----> 2\u001b[0;31m \u001b[0mx\u001b[0m\u001b[0;34m\u001b[0m\u001b[0;34m\u001b[0m\u001b[0m\n\u001b[0m",
            "\u001b[0;31mNameError\u001b[0m: name 'x' is not defined"
          ]
        }
      ],
      "source": [
        "#Show\n",
        "x"
      ]
    },
    {
      "cell_type": "code",
      "execution_count": 79,
      "metadata": {
        "colab": {
          "base_uri": "https://localhost:8080/",
          "height": 183
        },
        "id": "qN4guFeox2yH",
        "outputId": "07b6312c-74c8-40ff-8b62-d1293cb42a00"
      },
      "outputs": [
        {
          "output_type": "error",
          "ename": "NameError",
          "evalue": "ignored",
          "traceback": [
            "\u001b[0;31m---------------------------------------------------------------------------\u001b[0m",
            "\u001b[0;31mNameError\u001b[0m                                 Traceback (most recent call last)",
            "\u001b[0;32m<ipython-input-79-eaef5f2c24c5>\u001b[0m in \u001b[0;36m<cell line: 2>\u001b[0;34m()\u001b[0m\n\u001b[1;32m      1\u001b[0m \u001b[0;31m# Try to add the same element 1 again\u001b[0m\u001b[0;34m\u001b[0m\u001b[0;34m\u001b[0m\u001b[0m\n\u001b[0;32m----> 2\u001b[0;31m \u001b[0mx\u001b[0m\u001b[0;34m.\u001b[0m\u001b[0madd\u001b[0m\u001b[0;34m(\u001b[0m\u001b[0;36m1\u001b[0m\u001b[0;34m)\u001b[0m\u001b[0;34m\u001b[0m\u001b[0;34m\u001b[0m\u001b[0m\n\u001b[0m",
            "\u001b[0;31mNameError\u001b[0m: name 'x' is not defined"
          ]
        }
      ],
      "source": [
        "# Try to add the same element 1 again\n",
        "x.add(1)"
      ]
    },
    {
      "cell_type": "code",
      "execution_count": 80,
      "metadata": {
        "colab": {
          "base_uri": "https://localhost:8080/",
          "height": 165
        },
        "id": "AGlDN8Iyx2yK",
        "outputId": "8d41dcdd-145b-4d54-89b1-884c3ffaf267"
      },
      "outputs": [
        {
          "output_type": "error",
          "ename": "NameError",
          "evalue": "ignored",
          "traceback": [
            "\u001b[0;31m---------------------------------------------------------------------------\u001b[0m",
            "\u001b[0;31mNameError\u001b[0m                                 Traceback (most recent call last)",
            "\u001b[0;32m<ipython-input-80-6fcf9dfbd479>\u001b[0m in \u001b[0;36m<cell line: 1>\u001b[0;34m()\u001b[0m\n\u001b[0;32m----> 1\u001b[0;31m \u001b[0mx\u001b[0m\u001b[0;34m\u001b[0m\u001b[0;34m\u001b[0m\u001b[0m\n\u001b[0m",
            "\u001b[0;31mNameError\u001b[0m: name 'x' is not defined"
          ]
        }
      ],
      "source": [
        "x"
      ]
    },
    {
      "cell_type": "markdown",
      "metadata": {
        "id": "i2PhWKETx2yN"
      },
      "source": [
        "* Notice how it won't place another 1 there. That's because a set is only concerned with unique elements!"
      ]
    },
    {
      "cell_type": "markdown",
      "metadata": {
        "id": "Y579P1fwx2yN"
      },
      "source": [
        "### <code>update()</code>\n",
        "\n",
        "* <code>update()</code> method helps to add multiple elements to a set"
      ]
    },
    {
      "cell_type": "code",
      "execution_count": 81,
      "metadata": {
        "id": "-G2U0D2cx2yO"
      },
      "outputs": [],
      "source": [
        "my_set = {5,7,9,3}"
      ]
    },
    {
      "cell_type": "code",
      "execution_count": 82,
      "metadata": {
        "colab": {
          "base_uri": "https://localhost:8080/"
        },
        "id": "jNAbIqwUx2yR",
        "outputId": "b736f92c-f818-4dfd-dd7d-c1e0a2030384"
      },
      "outputs": [
        {
          "output_type": "stream",
          "name": "stdout",
          "text": [
            "{2, 3, 4, 5, 7, 9}\n"
          ]
        }
      ],
      "source": [
        "# add multiple elements\n",
        "my_set.update([2, 3, 4])\n",
        "print(my_set)"
      ]
    },
    {
      "cell_type": "markdown",
      "metadata": {
        "id": "Ehae_5psx2yT"
      },
      "source": [
        "### <code>remove()</code>\n",
        "\n",
        "* Use <code>remove()</code> to remove an item/element from the set.\n",
        "\n",
        "\n",
        "* By default <code>remove()</code> removes the specified element from the set.\n",
        "\n",
        "\n",
        "* <code>remove()</code> takes the element as an argument."
      ]
    },
    {
      "cell_type": "code",
      "execution_count": 87,
      "metadata": {
        "id": "yRW6CHCix2yU"
      },
      "outputs": [],
      "source": [
        "non_empty_set = {1,5,6,73,2}"
      ]
    },
    {
      "cell_type": "code",
      "execution_count": 84,
      "metadata": {
        "id": "UlzYv0oqx2yb"
      },
      "outputs": [],
      "source": [
        "non_empty_set.remove(5)"
      ]
    },
    {
      "cell_type": "code",
      "execution_count": 88,
      "metadata": {
        "id": "2ZdpesQJx2yd",
        "colab": {
          "base_uri": "https://localhost:8080/"
        },
        "outputId": "d79b3f85-78f7-4cb7-f203-847aad6cae54"
      },
      "outputs": [
        {
          "output_type": "execute_result",
          "data": {
            "text/plain": [
              "{1, 2, 5, 6, 73}"
            ]
          },
          "metadata": {},
          "execution_count": 88
        }
      ],
      "source": [
        "non_empty_set"
      ]
    },
    {
      "cell_type": "code",
      "execution_count": 89,
      "metadata": {
        "id": "JfaKZ5uex2ye",
        "colab": {
          "base_uri": "https://localhost:8080/",
          "height": 165
        },
        "outputId": "ec9a8c13-e27a-4620-9b1b-51505fc83ce2"
      },
      "outputs": [
        {
          "output_type": "error",
          "ename": "KeyError",
          "evalue": "ignored",
          "traceback": [
            "\u001b[0;31m---------------------------------------------------------------------------\u001b[0m",
            "\u001b[0;31mKeyError\u001b[0m                                  Traceback (most recent call last)",
            "\u001b[0;32m<ipython-input-89-a4e6701c6396>\u001b[0m in \u001b[0;36m<cell line: 1>\u001b[0;34m()\u001b[0m\n\u001b[0;32m----> 1\u001b[0;31m \u001b[0mnon_empty_set\u001b[0m\u001b[0;34m.\u001b[0m\u001b[0mremove\u001b[0m\u001b[0;34m(\u001b[0m\u001b[0;36m45\u001b[0m\u001b[0;34m)\u001b[0m\u001b[0;34m\u001b[0m\u001b[0;34m\u001b[0m\u001b[0m\n\u001b[0m",
            "\u001b[0;31mKeyError\u001b[0m: 45"
          ]
        }
      ],
      "source": [
        "non_empty_set.remove(45)"
      ]
    },
    {
      "cell_type": "markdown",
      "metadata": {
        "id": "4WyPacOmx2yg"
      },
      "source": [
        "* <code>remove()</code> throws an error when we try to remove an element which is not present in the set"
      ]
    },
    {
      "cell_type": "markdown",
      "metadata": {
        "id": "J78K33lKx2yh"
      },
      "source": [
        "### <code>union()</code>\n",
        "\n",
        "\n",
        "* <code>union()</code> method returns the union of two sets\n",
        "\n",
        "\n",
        "* Also denoted by the operator <code>|</code>"
      ]
    },
    {
      "cell_type": "code",
      "execution_count": 90,
      "metadata": {
        "id": "5PsHlxXvx2yh"
      },
      "outputs": [],
      "source": [
        "# Initialize sets A and B\n",
        "A = {1, 2, 3, 4, 5}\n",
        "B = {4, 5, 6, 7, 8}"
      ]
    },
    {
      "cell_type": "code",
      "execution_count": 91,
      "metadata": {
        "id": "xb3dKUDdx2yi",
        "colab": {
          "base_uri": "https://localhost:8080/"
        },
        "outputId": "0661b534-9099-46ff-d3fe-9ba5a5f58035"
      },
      "outputs": [
        {
          "output_type": "execute_result",
          "data": {
            "text/plain": [
              "{1, 2, 3, 4, 5, 6, 7, 8}"
            ]
          },
          "metadata": {},
          "execution_count": 91
        }
      ],
      "source": [
        "A.union(B)"
      ]
    },
    {
      "cell_type": "code",
      "execution_count": 92,
      "metadata": {
        "id": "LEnTk73BlUvM",
        "colab": {
          "base_uri": "https://localhost:8080/"
        },
        "outputId": "c0d8dd6f-186e-44fa-9998-f56eb84ffdb0"
      },
      "outputs": [
        {
          "output_type": "execute_result",
          "data": {
            "text/plain": [
              "{1, 2, 3, 4, 5}"
            ]
          },
          "metadata": {},
          "execution_count": 92
        }
      ],
      "source": [
        "A"
      ]
    },
    {
      "cell_type": "code",
      "execution_count": 93,
      "metadata": {
        "id": "5eiCPbm3x2yk",
        "colab": {
          "base_uri": "https://localhost:8080/"
        },
        "outputId": "ec575338-e8bb-4f92-d2aa-04b41726b4e3"
      },
      "outputs": [
        {
          "output_type": "execute_result",
          "data": {
            "text/plain": [
              "{1, 2, 3, 4, 5, 6, 7, 8}"
            ]
          },
          "metadata": {},
          "execution_count": 93
        }
      ],
      "source": [
        "# Also denoted by the operator |\n",
        "A | B"
      ]
    },
    {
      "cell_type": "markdown",
      "metadata": {
        "id": "-imPGLIHx2ym"
      },
      "source": [
        "### <code>intersection()</code>\n",
        "\n",
        "\n",
        "* <code>intersection()</code> method returns the intersection of two sets\n",
        "\n",
        "\n",
        "* Also denoted by the operator <code>&</code>"
      ]
    },
    {
      "cell_type": "code",
      "execution_count": 94,
      "metadata": {
        "id": "CEiWFkplx2ym"
      },
      "outputs": [],
      "source": [
        "A = {1, 2, 3, 4, 5}\n",
        "B = {4, 5, 6, 7, 8}"
      ]
    },
    {
      "cell_type": "code",
      "execution_count": 95,
      "metadata": {
        "id": "1ycxjihUx2yn",
        "colab": {
          "base_uri": "https://localhost:8080/"
        },
        "outputId": "3fa13423-e124-4cd3-f89c-e1d324d5b051"
      },
      "outputs": [
        {
          "output_type": "execute_result",
          "data": {
            "text/plain": [
              "{4, 5}"
            ]
          },
          "metadata": {},
          "execution_count": 95
        }
      ],
      "source": [
        "A.intersection(B)"
      ]
    },
    {
      "cell_type": "code",
      "execution_count": 96,
      "metadata": {
        "id": "GalM9H1ax2yp",
        "colab": {
          "base_uri": "https://localhost:8080/"
        },
        "outputId": "600ad06e-4bc7-4315-d4e2-0754c4d7616f"
      },
      "outputs": [
        {
          "output_type": "execute_result",
          "data": {
            "text/plain": [
              "{4, 5}"
            ]
          },
          "metadata": {},
          "execution_count": 96
        }
      ],
      "source": [
        "# Also denoted by the operator &\n",
        "A & B"
      ]
    },
    {
      "cell_type": "markdown",
      "metadata": {
        "id": "nJm-OfZDx2yq"
      },
      "source": [
        "### <code>difference()</code>\n",
        "\n",
        "\n",
        "* <code>difference()</code> method returns the difference of two sets\n",
        "\n",
        "\n",
        "* Difference of the set <code>B</code> from set <code>A</code> i.e, <code>(A - B)</code> is a set of elements that are only in <code>A</code> but not in <code>B</code>\n",
        "\n",
        "\n",
        "* Also denoted by the operator <code>-</code>"
      ]
    },
    {
      "cell_type": "code",
      "execution_count": 97,
      "metadata": {
        "id": "bggwzeTCx2yq"
      },
      "outputs": [],
      "source": [
        "A = {1, 2, 3, 4, 5}\n",
        "B = {4, 5, 6, 7, 8}"
      ]
    },
    {
      "cell_type": "code",
      "execution_count": 98,
      "metadata": {
        "id": "wj1pQh3Ex2ys",
        "colab": {
          "base_uri": "https://localhost:8080/"
        },
        "outputId": "5e30dc37-9cda-47c4-dd0b-d09f294e0ae3"
      },
      "outputs": [
        {
          "output_type": "execute_result",
          "data": {
            "text/plain": [
              "{1, 2, 3}"
            ]
          },
          "metadata": {},
          "execution_count": 98
        }
      ],
      "source": [
        "A.difference(B)"
      ]
    },
    {
      "cell_type": "code",
      "execution_count": 99,
      "metadata": {
        "id": "0DgHo42ax2yv",
        "colab": {
          "base_uri": "https://localhost:8080/"
        },
        "outputId": "66af2be7-283b-4339-d0cf-82b3ffee648d"
      },
      "outputs": [
        {
          "output_type": "execute_result",
          "data": {
            "text/plain": [
              "{1, 2, 3}"
            ]
          },
          "metadata": {},
          "execution_count": 99
        }
      ],
      "source": [
        "# Also denoted by the operator -\n",
        "A - B"
      ]
    },
    {
      "cell_type": "code",
      "execution_count": 100,
      "metadata": {
        "id": "6252HLbjx2yw",
        "colab": {
          "base_uri": "https://localhost:8080/"
        },
        "outputId": "dc35da21-29c8-4642-fedb-5a8f9e3a3426"
      },
      "outputs": [
        {
          "output_type": "execute_result",
          "data": {
            "text/plain": [
              "{6, 7, 8}"
            ]
          },
          "metadata": {},
          "execution_count": 100
        }
      ],
      "source": [
        "B.difference(A)"
      ]
    },
    {
      "cell_type": "code",
      "execution_count": 101,
      "metadata": {
        "id": "UXeArQih9-KX",
        "colab": {
          "base_uri": "https://localhost:8080/"
        },
        "outputId": "ca94cbc8-5d0a-456d-b772-6a8c3c285fde"
      },
      "outputs": [
        {
          "output_type": "execute_result",
          "data": {
            "text/plain": [
              "{6, 7, 8}"
            ]
          },
          "metadata": {},
          "execution_count": 101
        }
      ],
      "source": [
        "B - A"
      ]
    },
    {
      "cell_type": "markdown",
      "metadata": {
        "id": "syQXm4jBx2yx"
      },
      "source": [
        "### <code>symmetric_difference()</code>\n",
        "\n",
        "\n",
        "* <code>symmetric_difference()</code> method returns the set of elements in A and B but not in both (excluding the intersection)\n",
        "\n",
        "\n",
        "* Also denoted by the operator <code>^</code>"
      ]
    },
    {
      "cell_type": "code",
      "execution_count": 102,
      "metadata": {
        "id": "EVPLdfe6x2yx"
      },
      "outputs": [],
      "source": [
        "A = {1, 2, 3, 4, 5}\n",
        "B = {4, 5, 6, 7, 8}"
      ]
    },
    {
      "cell_type": "code",
      "execution_count": 103,
      "metadata": {
        "id": "FLdL9n9nx2yz",
        "colab": {
          "base_uri": "https://localhost:8080/"
        },
        "outputId": "95557de5-f072-41fb-96e5-b0c0a60f7e15"
      },
      "outputs": [
        {
          "output_type": "execute_result",
          "data": {
            "text/plain": [
              "{1, 2, 3, 6, 7, 8}"
            ]
          },
          "metadata": {},
          "execution_count": 103
        }
      ],
      "source": [
        "A.symmetric_difference(B)"
      ]
    },
    {
      "cell_type": "code",
      "execution_count": 104,
      "metadata": {
        "id": "yetEV2k1x2y1",
        "colab": {
          "base_uri": "https://localhost:8080/"
        },
        "outputId": "d089f399-3fc7-498c-933d-2d9cff9ff00a"
      },
      "outputs": [
        {
          "output_type": "execute_result",
          "data": {
            "text/plain": [
              "{1, 2, 3, 6, 7, 8}"
            ]
          },
          "metadata": {},
          "execution_count": 104
        }
      ],
      "source": [
        "A^B"
      ]
    },
    {
      "cell_type": "markdown",
      "metadata": {
        "id": "wLDBvDUix2y3"
      },
      "source": [
        "# Dictionaries\n",
        "\n",
        "* We've been learning about *sequences* in Python but now we're going to switch gears and learn about *mappings* in Python.\n",
        "\n",
        "\n",
        "* If you're familiar with other languages you can think of these Dictionaries as hash tables.\n",
        "\n",
        "\n",
        "* So what are mappings? Mappings are a collection of objects that are stored by a *key*, unlike a sequence that stored objects by their relative position. This is an important distinction, since mappings won't retain order since they have objects defined by a key.\n",
        "\n",
        "\n",
        "* A Python dictionary consists of a key and then an associated value. That value can be almost any Python object. So a dictionary object always has elements as key-value pairs\n",
        "\n",
        "\n",
        "## Constructing a Dictionary\n",
        "\n",
        "\n",
        "* A dictionary object is constructed using curly braces <code>{key1:value1,key2:value2,key3:value3}</code>"
      ]
    },
    {
      "cell_type": "code",
      "execution_count": 105,
      "metadata": {
        "id": "IPVt8pQ1x2y4"
      },
      "outputs": [],
      "source": [
        "# Make a dictionary with {} and : to signify a key and a value\n",
        "marvel_dict = {'Name':'Thor','Place':'Asgard','Weapon' : 'Hammer', 1:2, 3 : 'power', 'alibies' : ['Ironman','Captain America'], 'abc' : {1:2, 4:5}}"
      ]
    },
    {
      "cell_type": "code",
      "execution_count": 106,
      "metadata": {
        "id": "zUigu-Eox2y5",
        "colab": {
          "base_uri": "https://localhost:8080/",
          "height": 35
        },
        "outputId": "9b44981f-bf14-4c61-823e-bf778081bc6f"
      },
      "outputs": [
        {
          "output_type": "execute_result",
          "data": {
            "text/plain": [
              "'Asgard'"
            ],
            "application/vnd.google.colaboratory.intrinsic+json": {
              "type": "string"
            }
          },
          "metadata": {},
          "execution_count": 106
        }
      ],
      "source": [
        "# Call values by their key\n",
        "marvel_dict['Place']"
      ]
    },
    {
      "cell_type": "code",
      "execution_count": 107,
      "metadata": {
        "id": "bQT7_8HqpdmX",
        "colab": {
          "base_uri": "https://localhost:8080/"
        },
        "outputId": "bf2b6ad4-6d4f-4df1-82a6-689b350baff2"
      },
      "outputs": [
        {
          "output_type": "execute_result",
          "data": {
            "text/plain": [
              "dict"
            ]
          },
          "metadata": {},
          "execution_count": 107
        }
      ],
      "source": [
        "type(marvel_dict)"
      ]
    },
    {
      "cell_type": "code",
      "execution_count": 108,
      "metadata": {
        "id": "JakXpRcqx2y7",
        "colab": {
          "base_uri": "https://localhost:8080/",
          "height": 35
        },
        "outputId": "2b0dd78f-d10a-4481-ddac-f0c8af1b1cce"
      },
      "outputs": [
        {
          "output_type": "execute_result",
          "data": {
            "text/plain": [
              "'Thor'"
            ],
            "application/vnd.google.colaboratory.intrinsic+json": {
              "type": "string"
            }
          },
          "metadata": {},
          "execution_count": 108
        }
      ],
      "source": [
        "marvel_dict['Name']"
      ]
    },
    {
      "cell_type": "code",
      "execution_count": 109,
      "metadata": {
        "id": "3VuNvGrQsC1o",
        "colab": {
          "base_uri": "https://localhost:8080/",
          "height": 165
        },
        "outputId": "c224134d-56b5-4836-e6cd-efbf31a9fc52"
      },
      "outputs": [
        {
          "output_type": "error",
          "ename": "KeyError",
          "evalue": "ignored",
          "traceback": [
            "\u001b[0;31m---------------------------------------------------------------------------\u001b[0m",
            "\u001b[0;31mKeyError\u001b[0m                                  Traceback (most recent call last)",
            "\u001b[0;32m<ipython-input-109-9f68b85bbfcd>\u001b[0m in \u001b[0;36m<cell line: 1>\u001b[0;34m()\u001b[0m\n\u001b[0;32m----> 1\u001b[0;31m \u001b[0mmarvel_dict\u001b[0m\u001b[0;34m[\u001b[0m\u001b[0;34m'Random'\u001b[0m\u001b[0;34m]\u001b[0m\u001b[0;34m\u001b[0m\u001b[0;34m\u001b[0m\u001b[0m\n\u001b[0m",
            "\u001b[0;31mKeyError\u001b[0m: 'Random'"
          ]
        }
      ],
      "source": [
        "marvel_dict['Random']"
      ]
    },
    {
      "cell_type": "code",
      "execution_count": 110,
      "metadata": {
        "id": "NZwP-63z_k3c",
        "colab": {
          "base_uri": "https://localhost:8080/",
          "height": 35
        },
        "outputId": "b97ac9bf-9e04-41d6-dc0c-f05b95642775"
      },
      "outputs": [
        {
          "output_type": "execute_result",
          "data": {
            "text/plain": [
              "'Hammer'"
            ],
            "application/vnd.google.colaboratory.intrinsic+json": {
              "type": "string"
            }
          },
          "metadata": {},
          "execution_count": 110
        }
      ],
      "source": [
        "marvel_dict['Weapon']"
      ]
    },
    {
      "cell_type": "code",
      "execution_count": 111,
      "metadata": {
        "id": "lRWRAg0U_0tM",
        "colab": {
          "base_uri": "https://localhost:8080/"
        },
        "outputId": "81c5077a-14a6-4d34-de6d-cd803699d447"
      },
      "outputs": [
        {
          "output_type": "execute_result",
          "data": {
            "text/plain": [
              "['Ironman', 'Captain America']"
            ]
          },
          "metadata": {},
          "execution_count": 111
        }
      ],
      "source": [
        "marvel_dict['alibies']"
      ]
    },
    {
      "cell_type": "code",
      "source": [
        "marvel_dict['abc']"
      ],
      "metadata": {
        "colab": {
          "base_uri": "https://localhost:8080/"
        },
        "id": "mGu2gVruiBEa",
        "outputId": "606bdecb-fed9-4fea-e02a-1df308e94e7e"
      },
      "execution_count": 113,
      "outputs": [
        {
          "output_type": "execute_result",
          "data": {
            "text/plain": [
              "{1: 2, 4: 5}"
            ]
          },
          "metadata": {},
          "execution_count": 113
        }
      ]
    },
    {
      "cell_type": "code",
      "execution_count": 112,
      "metadata": {
        "id": "e7fpRgtMAaSZ",
        "colab": {
          "base_uri": "https://localhost:8080/"
        },
        "outputId": "e3a27fd2-31d2-42c8-8f53-711ea60d5e7c"
      },
      "outputs": [
        {
          "output_type": "execute_result",
          "data": {
            "text/plain": [
              "dict"
            ]
          },
          "metadata": {},
          "execution_count": 112
        }
      ],
      "source": [
        "type(marvel_dict['abc'])"
      ]
    },
    {
      "cell_type": "markdown",
      "metadata": {
        "id": "J44Z9VfMx2y9"
      },
      "source": [
        "## Dictionary Methods"
      ]
    },
    {
      "cell_type": "markdown",
      "metadata": {
        "id": "uL7e7NDox2y9"
      },
      "source": [
        "### <code>keys()</code>\n",
        "\n",
        "\n",
        "* <code>keys()</code> method returns the list of keys in the dictionary object"
      ]
    },
    {
      "cell_type": "code",
      "execution_count": 114,
      "metadata": {
        "id": "d-MXIbRwqcS1",
        "colab": {
          "base_uri": "https://localhost:8080/"
        },
        "outputId": "3bf78807-2750-4705-b260-bed6cd925969"
      },
      "outputs": [
        {
          "output_type": "execute_result",
          "data": {
            "text/plain": [
              "dict_keys(['Name', 'Place', 'Weapon', 1, 3, 'alibies', 'abc'])"
            ]
          },
          "metadata": {},
          "execution_count": 114
        }
      ],
      "source": [
        "marvel_dict.keys()"
      ]
    },
    {
      "cell_type": "code",
      "execution_count": 115,
      "metadata": {
        "id": "mRev-noZx2y9",
        "colab": {
          "base_uri": "https://localhost:8080/"
        },
        "outputId": "a1f0bc34-6ce5-441e-a9eb-c5e8c723dc50"
      },
      "outputs": [
        {
          "output_type": "execute_result",
          "data": {
            "text/plain": [
              "['Name', 'Place', 'Weapon', 1, 3, 'alibies', 'abc']"
            ]
          },
          "metadata": {},
          "execution_count": 115
        }
      ],
      "source": [
        "list(marvel_dict.keys())"
      ]
    },
    {
      "cell_type": "markdown",
      "metadata": {
        "id": "tUaGyAtdx2y_"
      },
      "source": [
        "### <code>values()</code>\n",
        "\n",
        "* <code>values()</code> method returns the list of values in the dictionary object"
      ]
    },
    {
      "cell_type": "code",
      "execution_count": 116,
      "metadata": {
        "id": "phxxN3b2BI21",
        "colab": {
          "base_uri": "https://localhost:8080/"
        },
        "outputId": "d5ebbb15-b19e-41e2-cf09-3f545dfb4558"
      },
      "outputs": [
        {
          "output_type": "stream",
          "name": "stdout",
          "text": [
            "{'Name': 'Thor', 'Place': 'Asgard', 'Weapon': 'Hammer', 1: 2, 3: 'power', 'alibies': ['Ironman', 'Captain America'], 'abc': {1: 2, 4: 5}}\n"
          ]
        }
      ],
      "source": [
        "print(marvel_dict)"
      ]
    },
    {
      "cell_type": "code",
      "source": [
        "marvel_dict.values()"
      ],
      "metadata": {
        "colab": {
          "base_uri": "https://localhost:8080/"
        },
        "id": "NcUuH7mlixQQ",
        "outputId": "a2687a3a-1628-4498-c37e-30df207ff7eb"
      },
      "execution_count": 118,
      "outputs": [
        {
          "output_type": "execute_result",
          "data": {
            "text/plain": [
              "dict_values(['Thor', 'Asgard', 'Hammer', 2, 'power', ['Ironman', 'Captain America'], {1: 2, 4: 5}])"
            ]
          },
          "metadata": {},
          "execution_count": 118
        }
      ]
    },
    {
      "cell_type": "code",
      "execution_count": 117,
      "metadata": {
        "id": "18imvm1tx2zA",
        "colab": {
          "base_uri": "https://localhost:8080/"
        },
        "outputId": "f7615019-a94b-43c5-98b8-4ed2d3db17e9"
      },
      "outputs": [
        {
          "output_type": "execute_result",
          "data": {
            "text/plain": [
              "['Thor',\n",
              " 'Asgard',\n",
              " 'Hammer',\n",
              " 2,\n",
              " 'power',\n",
              " ['Ironman', 'Captain America'],\n",
              " {1: 2, 4: 5}]"
            ]
          },
          "metadata": {},
          "execution_count": 117
        }
      ],
      "source": [
        "list(marvel_dict.values())"
      ]
    },
    {
      "cell_type": "markdown",
      "metadata": {
        "id": "_nSqsOiax2zB"
      },
      "source": [
        "### <code>items()</code>\n",
        "\n",
        "\n",
        "* <code>items()</code> method returns the list of the keys and values"
      ]
    },
    {
      "cell_type": "code",
      "execution_count": 119,
      "metadata": {
        "id": "JHqnsUctx2zB",
        "colab": {
          "base_uri": "https://localhost:8080/"
        },
        "outputId": "4391e6f0-442f-41f8-820a-e150dea2d9ce"
      },
      "outputs": [
        {
          "output_type": "execute_result",
          "data": {
            "text/plain": [
              "[('Name', 'Thor'),\n",
              " ('Place', 'Asgard'),\n",
              " ('Weapon', 'Hammer'),\n",
              " (1, 2),\n",
              " (3, 'power'),\n",
              " ('alibies', ['Ironman', 'Captain America']),\n",
              " ('abc', {1: 2, 4: 5})]"
            ]
          },
          "metadata": {},
          "execution_count": 119
        }
      ],
      "source": [
        "# Get the keys and their corresponding values\n",
        "list(marvel_dict.items())"
      ]
    },
    {
      "cell_type": "markdown",
      "metadata": {
        "id": "rOJcYnxYx2zE"
      },
      "source": [
        "* We can also use the <code>get()</code> method to extract a particular value of key-value pair.\n"
      ]
    },
    {
      "cell_type": "code",
      "execution_count": 120,
      "metadata": {
        "id": "VH3-a6Ykx2zE",
        "colab": {
          "base_uri": "https://localhost:8080/",
          "height": 35
        },
        "outputId": "87357845-a163-41d7-d395-8895699b9452"
      },
      "outputs": [
        {
          "output_type": "execute_result",
          "data": {
            "text/plain": [
              "'Asgard'"
            ],
            "application/vnd.google.colaboratory.intrinsic+json": {
              "type": "string"
            }
          },
          "metadata": {},
          "execution_count": 120
        }
      ],
      "source": [
        "marvel_dict.get('Place')"
      ]
    },
    {
      "cell_type": "markdown",
      "metadata": {
        "id": "WsRmOWzVx2zG"
      },
      "source": [
        "### <code>get()</code>\n",
        "\n",
        "* <code>get()</code> method takes the key as an argument and returns None if the key is not found in the dictionary.\n",
        "\n",
        "\n",
        "* We can also set the value to return if a key is not found. This will be passed as the second argument in <code>get()</code>"
      ]
    },
    {
      "cell_type": "code",
      "execution_count": 121,
      "metadata": {
        "id": "hHnXdwNNx2zG",
        "colab": {
          "base_uri": "https://localhost:8080/",
          "height": 35
        },
        "outputId": "8dd7c438-2a14-40f6-80c3-0e4bb701491c"
      },
      "outputs": [
        {
          "output_type": "execute_result",
          "data": {
            "text/plain": [
              "'Asgard'"
            ],
            "application/vnd.google.colaboratory.intrinsic+json": {
              "type": "string"
            }
          },
          "metadata": {},
          "execution_count": 121
        }
      ],
      "source": [
        "marvel_dict.get('Place')"
      ]
    },
    {
      "cell_type": "code",
      "execution_count": 125,
      "metadata": {
        "id": "rAS9es6osPNX"
      },
      "outputs": [],
      "source": [
        "marvel_dict.get('Random')"
      ]
    },
    {
      "cell_type": "code",
      "execution_count": 125,
      "metadata": {
        "id": "ociIf394sPLE"
      },
      "outputs": [],
      "source": []
    },
    {
      "cell_type": "code",
      "execution_count": 126,
      "metadata": {
        "id": "-wqYpb0Ox2zI",
        "colab": {
          "base_uri": "https://localhost:8080/",
          "height": 35
        },
        "outputId": "bd7c5870-126e-41ed-905e-17ebf2e684d7"
      },
      "outputs": [
        {
          "output_type": "execute_result",
          "data": {
            "text/plain": [
              "'Not Found'"
            ],
            "application/vnd.google.colaboratory.intrinsic+json": {
              "type": "string"
            }
          },
          "metadata": {},
          "execution_count": 126
        }
      ],
      "source": [
        "marvel_dict.get('Random','Not Found')"
      ]
    },
    {
      "cell_type": "code",
      "execution_count": 127,
      "metadata": {
        "id": "365bYlMJx2zJ",
        "colab": {
          "base_uri": "https://localhost:8080/",
          "height": 165
        },
        "outputId": "7d9499c7-cf8d-4414-fe73-f6b99a63e72d"
      },
      "outputs": [
        {
          "output_type": "error",
          "ename": "KeyError",
          "evalue": "ignored",
          "traceback": [
            "\u001b[0;31m---------------------------------------------------------------------------\u001b[0m",
            "\u001b[0;31mKeyError\u001b[0m                                  Traceback (most recent call last)",
            "\u001b[0;32m<ipython-input-127-6d5748fd78c2>\u001b[0m in \u001b[0;36m<cell line: 1>\u001b[0;34m()\u001b[0m\n\u001b[0;32m----> 1\u001b[0;31m \u001b[0mmarvel_dict\u001b[0m\u001b[0;34m[\u001b[0m\u001b[0;34m'friend'\u001b[0m\u001b[0;34m]\u001b[0m\u001b[0;34m\u001b[0m\u001b[0;34m\u001b[0m\u001b[0m\n\u001b[0m",
            "\u001b[0;31mKeyError\u001b[0m: 'friend'"
          ]
        }
      ],
      "source": [
        "marvel_dict['friend']"
      ]
    },
    {
      "cell_type": "markdown",
      "metadata": {
        "id": "zcMn2Wd-x2zL"
      },
      "source": [
        "Its important to note that dictionaries are very flexible in the data types they can hold. For example:"
      ]
    },
    {
      "cell_type": "code",
      "execution_count": 142,
      "metadata": {
        "id": "jtF14Xqxx2zL"
      },
      "outputs": [],
      "source": [
        "employee_dict = {'Name':'Monis_Ahmad','Skills':['Python','Machine Learning','Deep Learning'],'Band':6.0,'Promotion Year':[2021,2022,2023]}"
      ]
    },
    {
      "cell_type": "code",
      "execution_count": 143,
      "metadata": {
        "id": "TBmOrJKlCx4A",
        "colab": {
          "base_uri": "https://localhost:8080/"
        },
        "outputId": "e2c8018a-b567-4132-d14a-4da5d40684f1"
      },
      "outputs": [
        {
          "output_type": "execute_result",
          "data": {
            "text/plain": [
              "4"
            ]
          },
          "metadata": {},
          "execution_count": 143
        }
      ],
      "source": [
        "len(employee_dict.keys())"
      ]
    },
    {
      "cell_type": "code",
      "execution_count": 144,
      "metadata": {
        "id": "_RpBYW0Qx2zM",
        "colab": {
          "base_uri": "https://localhost:8080/"
        },
        "outputId": "aba3af30-bfa3-46f7-ab8e-76784995f3cd"
      },
      "outputs": [
        {
          "output_type": "execute_result",
          "data": {
            "text/plain": [
              "['Python', 'Machine Learning', 'Deep Learning']"
            ]
          },
          "metadata": {},
          "execution_count": 144
        }
      ],
      "source": [
        "# Let's call items from the dictionary\n",
        "employee_dict['Skills']"
      ]
    },
    {
      "cell_type": "code",
      "execution_count": 145,
      "metadata": {
        "id": "u1mgrdHnx2zN",
        "colab": {
          "base_uri": "https://localhost:8080/",
          "height": 35
        },
        "outputId": "8bcc37d3-666f-4b3b-fc75-17a362baa975"
      },
      "outputs": [
        {
          "output_type": "execute_result",
          "data": {
            "text/plain": [
              "'Python'"
            ],
            "application/vnd.google.colaboratory.intrinsic+json": {
              "type": "string"
            }
          },
          "metadata": {},
          "execution_count": 145
        }
      ],
      "source": [
        "# Can call an index on that value\n",
        "employee_dict['Skills'][0]"
      ]
    },
    {
      "cell_type": "code",
      "execution_count": 146,
      "metadata": {
        "id": "YT7M9CoMx2zP",
        "colab": {
          "base_uri": "https://localhost:8080/",
          "height": 35
        },
        "outputId": "3a3b620c-1032-4326-fe6e-fd8208e1c96b"
      },
      "outputs": [
        {
          "output_type": "execute_result",
          "data": {
            "text/plain": [
              "'PYTHON'"
            ],
            "application/vnd.google.colaboratory.intrinsic+json": {
              "type": "string"
            }
          },
          "metadata": {},
          "execution_count": 146
        }
      ],
      "source": [
        "# Can then even call methods on that value\n",
        "employee_dict['Skills'][0].upper()"
      ]
    },
    {
      "cell_type": "code",
      "execution_count": 147,
      "metadata": {
        "id": "dcEo2ZqSx2zQ"
      },
      "outputs": [],
      "source": [
        "# Add a new key\n",
        "\n",
        "employee_dict['Designation'] ='Data Scientist'"
      ]
    },
    {
      "cell_type": "code",
      "execution_count": 148,
      "metadata": {
        "id": "I_VxhEd_x2zR",
        "colab": {
          "base_uri": "https://localhost:8080/"
        },
        "outputId": "a3f55c3b-f24b-4236-a2c3-a0359f9d0c9d"
      },
      "outputs": [
        {
          "output_type": "execute_result",
          "data": {
            "text/plain": [
              "{'Name': 'Monis_Ahmad',\n",
              " 'Skills': ['Python', 'Machine Learning', 'Deep Learning'],\n",
              " 'Band': 6.0,\n",
              " 'Promotion Year': [2021, 2022, 2023],\n",
              " 'Designation': 'Data Scientist'}"
            ]
          },
          "metadata": {},
          "execution_count": 148
        }
      ],
      "source": [
        "employee_dict"
      ]
    },
    {
      "cell_type": "markdown",
      "metadata": {
        "id": "KdEUV4J3x2zT"
      },
      "source": [
        "### <code>update()</code>\n",
        "\n",
        "* You can add an element which is a key-value pair using the <code>update()</code> method\n",
        "\n",
        "* This method takes a dictionary as an argument"
      ]
    },
    {
      "cell_type": "code",
      "execution_count": 149,
      "metadata": {
        "id": "FEGkoCDBx2zT"
      },
      "outputs": [],
      "source": [
        "employee_dict.update({'Salary':'1,000,000'})"
      ]
    },
    {
      "cell_type": "code",
      "execution_count": 150,
      "metadata": {
        "id": "MzCAighVx2zW",
        "colab": {
          "base_uri": "https://localhost:8080/"
        },
        "outputId": "7e62e5b0-8555-4524-8c83-918aae62949e"
      },
      "outputs": [
        {
          "output_type": "execute_result",
          "data": {
            "text/plain": [
              "{'Name': 'Monis_Ahmad',\n",
              " 'Skills': ['Python', 'Machine Learning', 'Deep Learning'],\n",
              " 'Band': 6.0,\n",
              " 'Promotion Year': [2021, 2022, 2023],\n",
              " 'Designation': 'Data Scientist',\n",
              " 'Salary': '1,000,000'}"
            ]
          },
          "metadata": {},
          "execution_count": 150
        }
      ],
      "source": [
        "employee_dict"
      ]
    },
    {
      "cell_type": "markdown",
      "metadata": {
        "id": "vUSkFO6mx2zY"
      },
      "source": [
        "* We can also use the <code>update()</code> method to update the existing values for a key"
      ]
    },
    {
      "cell_type": "code",
      "execution_count": 152,
      "metadata": {
        "id": "l1DZu6X9x2zY"
      },
      "outputs": [],
      "source": [
        "employee_dict.update({'Name' : 'MONIS'})"
      ]
    },
    {
      "cell_type": "code",
      "execution_count": 153,
      "metadata": {
        "id": "XEqfvHmxx2zb",
        "colab": {
          "base_uri": "https://localhost:8080/"
        },
        "outputId": "fdf49636-ae5d-4213-ee0c-fba36a6fb116"
      },
      "outputs": [
        {
          "output_type": "execute_result",
          "data": {
            "text/plain": [
              "{'Name': 'MONIS',\n",
              " 'Skills': ['Python', 'Machine Learning', 'Deep Learning'],\n",
              " 'Band': 6.0,\n",
              " 'Promotion Year': [2021, 2022, 2023],\n",
              " 'Designation': 'Data Scientist',\n",
              " 'Salary': '1,000,000'}"
            ]
          },
          "metadata": {},
          "execution_count": 153
        }
      ],
      "source": [
        "employee_dict"
      ]
    },
    {
      "cell_type": "markdown",
      "metadata": {
        "id": "xxQn8kbMx2zc"
      },
      "source": [
        "* We can affect the values of a key as well without the <code>update()</code> method"
      ]
    },
    {
      "cell_type": "code",
      "execution_count": 154,
      "metadata": {
        "id": "-mEWWbYKx2zc",
        "colab": {
          "base_uri": "https://localhost:8080/",
          "height": 35
        },
        "outputId": "46448feb-0cf2-405f-a95f-bbc2ef17e85f"
      },
      "outputs": [
        {
          "output_type": "execute_result",
          "data": {
            "text/plain": [
              "'MONIS'"
            ],
            "application/vnd.google.colaboratory.intrinsic+json": {
              "type": "string"
            }
          },
          "metadata": {},
          "execution_count": 154
        }
      ],
      "source": [
        "employee_dict['Name']"
      ]
    },
    {
      "cell_type": "markdown",
      "metadata": {
        "id": "Rnlnm59rx2zi"
      },
      "source": [
        "### <code>dict()</code>\n",
        "\n",
        "\n",
        "* We can also create dictionary objects from sequence of items which are pairs. This is done using the <code>dict()</code>method\n",
        "\n",
        "\n",
        "*  <code>dict()</code> function takes the list of paired elements as argument"
      ]
    },
    {
      "cell_type": "code",
      "execution_count": 161,
      "metadata": {
        "id": "JSOCmifNV_ht"
      },
      "outputs": [],
      "source": [
        "country_list = ['India','Australia','United States','England']\n",
        "city_list = ['New Delhi', 'Canberra' , 'Washington DC','London']"
      ]
    },
    {
      "cell_type": "code",
      "execution_count": 162,
      "metadata": {
        "id": "mviLZSi0WSuK"
      },
      "outputs": [],
      "source": [
        "country_city_list = list(zip(country_list,city_list))"
      ]
    },
    {
      "cell_type": "code",
      "execution_count": 163,
      "metadata": {
        "id": "o_whSlhOWZgG",
        "colab": {
          "base_uri": "https://localhost:8080/"
        },
        "outputId": "84cb9404-d4a8-45f9-bbde-8ddd89b5a8df"
      },
      "outputs": [
        {
          "output_type": "execute_result",
          "data": {
            "text/plain": [
              "[('India', 'New Delhi'),\n",
              " ('Australia', 'Canberra'),\n",
              " ('United States', 'Washington DC'),\n",
              " ('England', 'London')]"
            ]
          },
          "metadata": {},
          "execution_count": 163
        }
      ],
      "source": [
        "country_city_list"
      ]
    },
    {
      "cell_type": "code",
      "execution_count": 164,
      "metadata": {
        "id": "vUdlGah7Wcu8",
        "colab": {
          "base_uri": "https://localhost:8080/"
        },
        "outputId": "d031eea2-627d-4805-c50d-5edcd46e0053"
      },
      "outputs": [
        {
          "output_type": "execute_result",
          "data": {
            "text/plain": [
              "{'India': 'New Delhi',\n",
              " 'Australia': 'Canberra',\n",
              " 'United States': 'Washington DC',\n",
              " 'England': 'London'}"
            ]
          },
          "metadata": {},
          "execution_count": 164
        }
      ],
      "source": [
        "dict(country_city_list)"
      ]
    },
    {
      "cell_type": "code",
      "execution_count": 165,
      "metadata": {
        "id": "vq5EXr2ex2zi"
      },
      "outputs": [],
      "source": [
        "# Let us create a list of paired tuples\n",
        "country_city_tuples = [('India','New Delhi'),('Australia','Canberra'),('United States','Washington DC'),('England','London')]"
      ]
    },
    {
      "cell_type": "code",
      "execution_count": 166,
      "metadata": {
        "id": "-6ObV-KFx2zj"
      },
      "outputs": [],
      "source": [
        "country_city_dict = dict(country_city_tuples)"
      ]
    },
    {
      "cell_type": "code",
      "execution_count": 167,
      "metadata": {
        "id": "CQRGpNXJx2zk",
        "colab": {
          "base_uri": "https://localhost:8080/"
        },
        "outputId": "f8351e56-99ea-4c52-aedb-71bc3cd5b14e"
      },
      "outputs": [
        {
          "output_type": "execute_result",
          "data": {
            "text/plain": [
              "{'India': 'New Delhi',\n",
              " 'Australia': 'Canberra',\n",
              " 'United States': 'Washington DC',\n",
              " 'England': 'London'}"
            ]
          },
          "metadata": {},
          "execution_count": 167
        }
      ],
      "source": [
        "country_city_dict"
      ]
    },
    {
      "cell_type": "markdown",
      "metadata": {
        "id": "IC5NCQkmx2zl"
      },
      "source": [
        "### <code>pop()</code>\n",
        "\n",
        "\n",
        "* <code>pop()</code> method removes and returns an element from a dictionary having the given key.\n",
        "\n",
        "* This method takes two arguments/parameters (i) key - key which is to be searched for removal, (ii) default - value which is to be returned when the key is not in the dictionary"
      ]
    },
    {
      "cell_type": "code",
      "execution_count": 168,
      "metadata": {
        "id": "bGVEztzUuoNk",
        "colab": {
          "base_uri": "https://localhost:8080/",
          "height": 35
        },
        "outputId": "2b50bfb3-92c1-4414-c40e-255afed4456d"
      },
      "outputs": [
        {
          "output_type": "execute_result",
          "data": {
            "text/plain": [
              "'London'"
            ],
            "application/vnd.google.colaboratory.intrinsic+json": {
              "type": "string"
            }
          },
          "metadata": {},
          "execution_count": 168
        }
      ],
      "source": [
        "country_city_dict.pop('England')"
      ]
    },
    {
      "cell_type": "code",
      "execution_count": 169,
      "metadata": {
        "id": "IPNFmS9lusRR",
        "colab": {
          "base_uri": "https://localhost:8080/"
        },
        "outputId": "572aaf97-e67e-4838-c27b-5eeccd2a6076"
      },
      "outputs": [
        {
          "output_type": "execute_result",
          "data": {
            "text/plain": [
              "{'India': 'New Delhi',\n",
              " 'Australia': 'Canberra',\n",
              " 'United States': 'Washington DC'}"
            ]
          },
          "metadata": {},
          "execution_count": 169
        }
      ],
      "source": [
        "country_city_dict"
      ]
    },
    {
      "cell_type": "code",
      "execution_count": 172,
      "metadata": {
        "id": "r6NkuEnlx2zl",
        "colab": {
          "base_uri": "https://localhost:8080/",
          "height": 165
        },
        "outputId": "b3c0a35a-eb31-4087-d3eb-cef844610176"
      },
      "outputs": [
        {
          "output_type": "error",
          "ename": "KeyError",
          "evalue": "ignored",
          "traceback": [
            "\u001b[0;31m---------------------------------------------------------------------------\u001b[0m",
            "\u001b[0;31mKeyError\u001b[0m                                  Traceback (most recent call last)",
            "\u001b[0;32m<ipython-input-172-f98023b73e7b>\u001b[0m in \u001b[0;36m<cell line: 1>\u001b[0;34m()\u001b[0m\n\u001b[0;32m----> 1\u001b[0;31m \u001b[0melement_to_pop\u001b[0m \u001b[0;34m=\u001b[0m \u001b[0mcountry_city_dict\u001b[0m\u001b[0;34m.\u001b[0m\u001b[0mpop\u001b[0m\u001b[0;34m(\u001b[0m\u001b[0;34m'England'\u001b[0m\u001b[0;34m)\u001b[0m\u001b[0;34m\u001b[0m\u001b[0;34m\u001b[0m\u001b[0m\n\u001b[0m",
            "\u001b[0;31mKeyError\u001b[0m: 'England'"
          ]
        }
      ],
      "source": [
        "element_to_pop = country_city_dict.pop('England')"
      ]
    },
    {
      "cell_type": "code",
      "execution_count": 173,
      "metadata": {
        "id": "9qxKp-iBx2zn",
        "colab": {
          "base_uri": "https://localhost:8080/",
          "height": 165
        },
        "outputId": "254bc334-6091-4e52-cb4c-dcce920344de"
      },
      "outputs": [
        {
          "output_type": "error",
          "ename": "NameError",
          "evalue": "ignored",
          "traceback": [
            "\u001b[0;31m---------------------------------------------------------------------------\u001b[0m",
            "\u001b[0;31mNameError\u001b[0m                                 Traceback (most recent call last)",
            "\u001b[0;32m<ipython-input-173-7389af898c65>\u001b[0m in \u001b[0;36m<cell line: 1>\u001b[0;34m()\u001b[0m\n\u001b[0;32m----> 1\u001b[0;31m \u001b[0melement_to_pop\u001b[0m\u001b[0;34m\u001b[0m\u001b[0;34m\u001b[0m\u001b[0m\n\u001b[0m",
            "\u001b[0;31mNameError\u001b[0m: name 'element_to_pop' is not defined"
          ]
        }
      ],
      "source": [
        "element_to_pop"
      ]
    },
    {
      "cell_type": "code",
      "execution_count": 174,
      "metadata": {
        "id": "_1kPkAHwx2zo",
        "colab": {
          "base_uri": "https://localhost:8080/"
        },
        "outputId": "8974ec6d-2f6e-4d65-97aa-96afd0699da6"
      },
      "outputs": [
        {
          "output_type": "execute_result",
          "data": {
            "text/plain": [
              "{'India': 'New Delhi',\n",
              " 'Australia': 'Canberra',\n",
              " 'United States': 'Washington DC'}"
            ]
          },
          "metadata": {},
          "execution_count": 174
        }
      ],
      "source": [
        "country_city_dict"
      ]
    },
    {
      "cell_type": "markdown",
      "metadata": {
        "id": "M2AfPxHSx2zp"
      },
      "source": [
        "### We can use the <code>zip()</code> and <code>dict()</code> methods to create a dictionary object from two lists"
      ]
    },
    {
      "cell_type": "code",
      "execution_count": 176,
      "metadata": {
        "id": "2x3V4Ew2x2zp"
      },
      "outputs": [],
      "source": [
        "name = [\"Mark Wood\", \"James Anderson\", \"Chris Woakes\"]\n",
        "marks = [150, 145, 140]"
      ]
    },
    {
      "cell_type": "code",
      "execution_count": 177,
      "metadata": {
        "id": "ARSqMR2Yx2zq"
      },
      "outputs": [],
      "source": [
        "mapped = zip(name, marks)"
      ]
    },
    {
      "cell_type": "code",
      "execution_count": 178,
      "metadata": {
        "id": "j_qa801mx2zs",
        "colab": {
          "base_uri": "https://localhost:8080/"
        },
        "outputId": "119f04e0-8302-43a2-f110-a514d467ddf3"
      },
      "outputs": [
        {
          "output_type": "execute_result",
          "data": {
            "text/plain": [
              "<zip at 0x7dc5501ce280>"
            ]
          },
          "metadata": {},
          "execution_count": 178
        }
      ],
      "source": [
        "mapped"
      ]
    },
    {
      "cell_type": "code",
      "execution_count": 179,
      "metadata": {
        "id": "KOegPhIOx2zu",
        "colab": {
          "base_uri": "https://localhost:8080/"
        },
        "outputId": "efbf7983-d77f-4e5f-8dde-3f2ec5b1735c"
      },
      "outputs": [
        {
          "output_type": "stream",
          "name": "stdout",
          "text": [
            "{'Mark Wood': 150, 'James Anderson': 145, 'Chris Woakes': 140}\n"
          ]
        }
      ],
      "source": [
        "print(dict(mapped))"
      ]
    },
    {
      "cell_type": "code",
      "execution_count": 180,
      "metadata": {
        "id": "vVYMZn_Cx2zv"
      },
      "outputs": [],
      "source": [
        "name = [\"Mark Wood\", \"James Anderson\", \"Chris Woakes\"]\n",
        "marks = [150, 145, 140,141]"
      ]
    },
    {
      "cell_type": "code",
      "execution_count": 181,
      "metadata": {
        "id": "cJpurERkx2zw"
      },
      "outputs": [],
      "source": [
        "mapped = zip(name, marks)"
      ]
    },
    {
      "cell_type": "code",
      "execution_count": 182,
      "metadata": {
        "id": "huwhblKwx2zz",
        "colab": {
          "base_uri": "https://localhost:8080/"
        },
        "outputId": "c4aa1504-cb60-4d93-8c63-3b3c72b13c5a"
      },
      "outputs": [
        {
          "output_type": "stream",
          "name": "stdout",
          "text": [
            "{'Mark Wood': 150, 'James Anderson': 145, 'Chris Woakes': 140}\n"
          ]
        }
      ],
      "source": [
        "print(dict(mapped))"
      ]
    }
  ],
  "metadata": {
    "colab": {
      "collapsed_sections": [
        "yMYuf2Hvx2xV",
        "Y579P1fwx2yN",
        "Ehae_5psx2yT",
        "J78K33lKx2yh",
        "-imPGLIHx2ym",
        "nJm-OfZDx2yq",
        "syQXm4jBx2yx",
        "J44Z9VfMx2y9",
        "uL7e7NDox2y9",
        "tUaGyAtdx2y_",
        "_nSqsOiax2zB",
        "WsRmOWzVx2zG",
        "KdEUV4J3x2zT",
        "Rnlnm59rx2zi",
        "IC5NCQkmx2zl",
        "M2AfPxHSx2zp"
      ],
      "provenance": [],
      "include_colab_link": true
    },
    "kernelspec": {
      "display_name": "Python 3",
      "language": "python",
      "name": "python3"
    },
    "language_info": {
      "codemirror_mode": {
        "name": "ipython",
        "version": 3
      },
      "file_extension": ".py",
      "mimetype": "text/x-python",
      "name": "python",
      "nbconvert_exporter": "python",
      "pygments_lexer": "ipython3",
      "version": "3.7.4"
    }
  },
  "nbformat": 4,
  "nbformat_minor": 0
}